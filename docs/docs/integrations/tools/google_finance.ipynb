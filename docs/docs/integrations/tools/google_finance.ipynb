{
 "cells": [
  {
   "cell_type": "markdown",
   "metadata": {},
   "source": [
    "# Google Finance\n",
    "\n",
    "This notebook goes over how to use the Google Finance Tool to get information from the Google Finance page\n",
    "\n",
    "To get an SerpApi key key, sign up at: https://serpapi.com/users/sign_up.\n",
    "\n",
    "Then install google-search-results with the command: \n",
    "\n",
    "pip install google-search-results\n",
    "\n",
    "Then set the environment variable SERPAPI_API_KEY to your SerpApi key\n",
    "\n",
    "Or pass the key in as a argument to the wrapper serp_api_key=\"your secret key\""
   ]
  },
  {
   "cell_type": "markdown",
   "metadata": {},
   "source": [
    "Use the Tool"
   ]
  },
  {
   "cell_type": "code",
   "execution_count": null,
   "metadata": {},
   "outputs": [],
   "source": [
    "!pip install google-search-results"
   ]
  },
  {
   "cell_type": "code",
   "execution_count": 9,
   "metadata": {},
   "outputs": [
    {
     "ename": "ModuleNotFoundError",
     "evalue": "No module named 'langchain.tools.google_finance'",
     "output_type": "error",
     "traceback": [
      "\u001b[1;31m---------------------------------------------------------------------------\u001b[0m",
      "\u001b[1;31mModuleNotFoundError\u001b[0m                       Traceback (most recent call last)",
      "\u001b[1;32mc:\\Users\\21kti\\Desktop\\d01-google-scholar\\langchain\\docs\\docs\\integrations\\tools\\google_finance.ipynb Cell 4\u001b[0m line \u001b[0;36m1\n\u001b[1;32m----> <a href='vscode-notebook-cell:/c%3A/Users/21kti/Desktop/d01-google-scholar/langchain/docs/docs/integrations/tools/google_finance.ipynb#W5sZmlsZQ%3D%3D?line=0'>1</a>\u001b[0m \u001b[39mfrom\u001b[39;00m \u001b[39mlangchain\u001b[39;00m\u001b[39m.\u001b[39;00m\u001b[39mtools\u001b[39;00m\u001b[39m.\u001b[39;00m\u001b[39mgoogle_finance\u001b[39;00m \u001b[39mimport\u001b[39;00m GoogleFinanceQueryRun\n\u001b[0;32m      <a href='vscode-notebook-cell:/c%3A/Users/21kti/Desktop/d01-google-scholar/langchain/docs/docs/integrations/tools/google_finance.ipynb#W5sZmlsZQ%3D%3D?line=1'>2</a>\u001b[0m \u001b[39mfrom\u001b[39;00m \u001b[39mlangchain\u001b[39;00m\u001b[39m.\u001b[39;00m\u001b[39mutilities\u001b[39;00m\u001b[39m.\u001b[39;00m\u001b[39mgoogle_finance\u001b[39;00m \u001b[39mimport\u001b[39;00m GoogleFinanceAPIWrapper\n\u001b[0;32m      <a href='vscode-notebook-cell:/c%3A/Users/21kti/Desktop/d01-google-scholar/langchain/docs/docs/integrations/tools/google_finance.ipynb#W5sZmlsZQ%3D%3D?line=3'>4</a>\u001b[0m \u001b[39mimport\u001b[39;00m \u001b[39mos\u001b[39;00m\n",
      "\u001b[1;31mModuleNotFoundError\u001b[0m: No module named 'langchain.tools.google_finance'"
     ]
    }
   ],
   "source": [
    "from langchain.tools.google_finance import GoogleFinanceQueryRun\n",
    "from langchain.utilities.google_finance import GoogleFinanceAPIWrapper\n",
    "\n",
    "import os\n",
    "os.environ[\"SERPAPI_API_KEY\"] = \"\"\n",
    "tool = GoogleFinanceQueryRun(api_wrapper=GoogleFinanceAPIWrapper())"
   ]
  },
  {
   "cell_type": "code",
   "execution_count": null,
   "metadata": {},
   "outputs": [],
   "source": [
    "tool.run(\"Google\")"
   ]
  },
  {
   "cell_type": "markdown",
   "metadata": {},
   "source": [
    "Using it with Langchain"
   ]
  },
  {
   "cell_type": "code",
   "execution_count": null,
   "metadata": {},
   "outputs": [],
   "source": [
    "from langchain.agents import load_tools\n",
    "from langchain.agents import initialize_agent\n",
    "from langchain.agents import AgentType\n",
    "from langchain.llms import OpenAI\n",
    "import os\n",
    "os.environ['OPENAI_API_KEY']=''\n",
    "os.environ[\"SERP_API_KEY\"] = \"\"\n",
    "llm = OpenAI()\n",
    "tools = load_tools([\"google-scholar\", \"google-finance\"], llm=llm)\n",
    "agent = initialize_agent(tools, llm, agent=AgentType.ZERO_SHOT_REACT_DESCRIPTION, verbose=True)\n",
    "agent.run(\"what is google's stock\")"
   ]
  }
 ],
 "metadata": {
  "kernelspec": {
   "display_name": "Python 3",
   "language": "python",
   "name": "python3"
  },
  "language_info": {
   "codemirror_mode": {
    "name": "ipython",
    "version": 3
   },
   "file_extension": ".py",
   "mimetype": "text/x-python",
   "name": "python",
   "nbconvert_exporter": "python",
   "pygments_lexer": "ipython3",
   "version": "3.9.5"
  }
 },
 "nbformat": 4,
 "nbformat_minor": 2
}
